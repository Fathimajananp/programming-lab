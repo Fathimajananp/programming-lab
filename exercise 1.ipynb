{
 "cells": [
  {
   "cell_type": "code",
   "execution_count": 1,
   "metadata": {},
   "outputs": [
    {
     "name": "stdout",
     "output_type": "stream",
     "text": [
      "Enter the side:2\n",
      "area of the square is: 4\n"
     ]
    }
   ],
   "source": [
    "#To find the area of a square\n",
    "n=int(input(\"Enter the side:\"))\n",
    "area=n*n\n",
    "print(\"area of the square is:\",area)"
   ]
  },
  {
   "cell_type": "code",
   "execution_count": 1,
   "metadata": {},
   "outputs": [
    {
     "name": "stdout",
     "output_type": "stream",
     "text": [
      "Enter the sides of a triangle:\n",
      "Enter the Height:2\n",
      "Enter the base:3\n",
      "The area is: 3.0\n"
     ]
    }
   ],
   "source": [
    "#Area of right angled triangle \n",
    "\n",
    "h=int(input(\"Enter the Height:\"))\n",
    "b=int(input(\"Enter the base:\"))\n",
    "area=(h*b)/2\n",
    "print(\"The area is:\",area)\n"
   ]
  },
  {
   "cell_type": "code",
   "execution_count": 3,
   "metadata": {},
   "outputs": [
    {
     "name": "stdout",
     "output_type": "stream",
     "text": [
      "Enter your name:gerry\n",
      "hello,gerry!\n"
     ]
    }
   ],
   "source": [
    "#greet your name\n",
    "name=(input(\"Enter your name:\"))\n",
    "print('hello,'+ name +'!')\n"
   ]
  },
  {
   "cell_type": "code",
   "execution_count": 4,
   "metadata": {},
   "outputs": [
    {
     "name": "stdout",
     "output_type": "stream",
     "text": [
      "Enter a number5\n",
      "4 5 6\n"
     ]
    }
   ],
   "source": [
    "#To get no. one before and one after of the given no.\n",
    "n=int(input('Enter a number'))\n",
    "print(n-1,n,n+1)\n"
   ]
  },
  {
   "cell_type": "code",
   "execution_count": 5,
   "metadata": {},
   "outputs": [
    {
     "name": "stdout",
     "output_type": "stream",
     "text": [
      "Enter principal amount:10000\n",
      "Enter no of years2\n",
      "Enter rate of interest:5\n",
      "simple interest: 1000.0\n"
     ]
    }
   ],
   "source": [
    "##simple interest\n",
    "p=int(input('Enter principal amount:'))\n",
    "n=int(input('Enter no of years'))\n",
    "r=float(input(\"Enter rate of interest:\"))\n",
    "s=(p*n*r)/100\n",
    "print(\"simple interest:\",s)\n"
   ]
  },
  {
   "cell_type": "code",
   "execution_count": null,
   "metadata": {
    "collapsed": true
   },
   "outputs": [],
   "source": []
  }
 ],
 "metadata": {
  "kernelspec": {
   "display_name": "Python 3",
   "language": "python",
   "name": "python3"
  },
  "language_info": {
   "codemirror_mode": {
    "name": "ipython",
    "version": 3
   },
   "file_extension": ".py",
   "mimetype": "text/x-python",
   "name": "python",
   "nbconvert_exporter": "python",
   "pygments_lexer": "ipython3",
   "version": "3.6.3"
  }
 },
 "nbformat": 4,
 "nbformat_minor": 2
}
