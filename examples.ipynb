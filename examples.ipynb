{
 "cells": [
  {
   "cell_type": "code",
   "execution_count": 1,
   "metadata": {},
   "outputs": [
    {
     "name": "stdout",
     "output_type": "stream",
     "text": [
      "Enter the length of the rectangle:3\n",
      "Enter the breadth of the rectangle:4\n",
      "The area of the rectangle is : 12\n",
      "The perimeter of the rectangle is : 14\n"
     ]
    }
   ],
   "source": [
    "#create module rectangle\n",
    "import rectangle\n",
    "l=int(input(\"Enter the length of the rectangle:\"))\n",
    "b=int(input(\"Enter the breadth of the rectangle:\"))\n",
    "print(\"The area of the rectangle is :\",rectangle.recArea(l,b))\n",
    "print(\"The perimeter of the rectangle is :\",rectangle.recPerimeter(l,b))\n"
   ]
  },
  {
   "cell_type": "code",
   "execution_count": 2,
   "metadata": {},
   "outputs": [
    {
     "name": "stdout",
     "output_type": "stream",
     "text": [
      "Enter the radius of the circle:3\n",
      "The area of circle is : 28.274333882308138\n",
      "The perimeter of circle is : 18.84955592153876\n"
     ]
    }
   ],
   "source": [
    "#create module circle \n",
    "import circle\n",
    "r=int(input(\"Enter the radius of the circle:\"))\n",
    "print(\"The area of circle is :\",circle.circleArea(r))\n",
    "print(\"The perimeter of circle is :\",circle.circlePerimeter(r))\n"
   ]
  },
  {
   "cell_type": "code",
   "execution_count": 1,
   "metadata": {},
   "outputs": [
    {
     "name": "stdout",
     "output_type": "stream",
     "text": [
      "Enter the length of the rectangle:3\n",
      "Enter the breadth of the rectangle:4\n",
      "The area of the rectangle is : 12\n",
      "The perimeter of the rectangle is : 14\n"
     ]
    }
   ],
   "source": [
    "#create module rectangle\n",
    "from Graphics import rectangle\n",
    "l=int(input(\"Enter the length of the rectangle:\"))\n",
    "b=int(input(\"Enter the breadth of the rectangle:\"))\n",
    "print(\"The area of the rectangle is :\",rectangle.recArea(l,b))\n",
    "print(\"The perimeter of the rectangle is :\",rectangle.recPerimeter(l,b))\n"
   ]
  },
  {
   "cell_type": "code",
   "execution_count": 2,
   "metadata": {},
   "outputs": [
    {
     "name": "stdout",
     "output_type": "stream",
     "text": [
      "Enter the radius of the circle:4\n",
      "The area of circle is : 50.26548245743669\n",
      "The perimeter of circle is : 25.132741228718345\n"
     ]
    }
   ],
   "source": [
    "#create module circle \n",
    "from Graphics import circle\n",
    "r=int(input(\"Enter the radius of the circle:\"))\n",
    "print(\"The area of circle is :\",circle.circleArea(r))\n",
    "print(\"The perimeter of circle is :\",circle.circlePerimeter(r))\n"
   ]
  },
  {
   "cell_type": "code",
   "execution_count": 3,
   "metadata": {},
   "outputs": [
    {
     "name": "stdout",
     "output_type": "stream",
     "text": [
      "Enter the radius of the sphere:3\n",
      "The area of sphere is : 113.09733552923255\n",
      "The circumference of sphere is : 18.84955592153876\n"
     ]
    }
   ],
   "source": [
    "#create module sphere\n",
    "from Graphics.Graphics3D import sphere\n",
    "r=int(input(\"Enter the radius of the sphere:\"))\n",
    "print(\"The area of sphere is :\",sphere.sphereArea(r))\n",
    "print(\"The circumference of sphere is :\",sphere.sphereCircumference(r))\n"
   ]
  },
  {
   "cell_type": "code",
   "execution_count": 4,
   "metadata": {},
   "outputs": [
    {
     "name": "stdout",
     "output_type": "stream",
     "text": [
      "Enter the length of the cuboid:4\n",
      "Enter the breadth of the cuboid:3\n",
      "Enter the height of the cuboid:5\n",
      "The area of the cuboid is : 94\n",
      "The perimeter of the cuboid is : 24\n"
     ]
    }
   ],
   "source": [
    "#create module cuboid\n",
    "from Graphics.Graphics3D import cuboid\n",
    "l=int(input(\"Enter the length of the cuboid:\"))\n",
    "b=int(input(\"Enter the breadth of the cuboid:\"))\n",
    "h=int(input(\"Enter the height of the cuboid:\"))\n",
    "print(\"The area of the cuboid is :\",cuboid.cuboidArea(l,b,h))\n",
    "print(\"The perimeter of the cuboid is :\",cuboid.cuboidPerimeter(l,b,h))\n"
   ]
  },
  {
   "cell_type": "code",
   "execution_count": null,
   "metadata": {
    "collapsed": true
   },
   "outputs": [],
   "source": []
  }
 ],
 "metadata": {
  "kernelspec": {
   "display_name": "Python 3",
   "language": "python",
   "name": "python3"
  },
  "language_info": {
   "codemirror_mode": {
    "name": "ipython",
    "version": 3
   },
   "file_extension": ".py",
   "mimetype": "text/x-python",
   "name": "python",
   "nbconvert_exporter": "python",
   "pygments_lexer": "ipython3",
   "version": "3.6.3"
  }
 },
 "nbformat": 4,
 "nbformat_minor": 2
}
