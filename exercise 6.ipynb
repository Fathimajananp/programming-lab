{
 "cells": [
  {
   "cell_type": "code",
   "execution_count": 1,
   "metadata": {},
   "outputs": [
    {
     "name": "stdout",
     "output_type": "stream",
     "text": [
      "Enter the number :3\n",
      "The factorial of  3 is 6\n"
     ]
    }
   ],
   "source": [
    "#To find the factorial of a given number\n",
    "num=int(input(\"Enter the number :\"))\n",
    "fact=1\n",
    "i=1\n",
    "while(i<=num):\n",
    "    fact=fact*i\n",
    "    i=i+1\n",
    "print(\"The factorial of \", num, \"is\" , fact)\n"
   ]
  },
  {
   "cell_type": "code",
   "execution_count": 2,
   "metadata": {},
   "outputs": [
    {
     "name": "stdout",
     "output_type": "stream",
     "text": [
      "Enter the number:5\n",
      "The fibanocci series of  5 terms are :\n",
      "0\n",
      "1\n",
      "1\n",
      "2\n",
      "3\n"
     ]
    }
   ],
   "source": [
    "#fibanocci series\n",
    "n=int(input(\"Enter the number:\"))\n",
    "n1,n2=0,1\n",
    "count=0\n",
    "if(n<=0):\n",
    "        print(\"Enter a positive integer :\")\n",
    "elif(n==1):\n",
    "    print(\"fibanocci series of \", n,\"terms is\",n1)\n",
    "else:\n",
    "    print(\"The fibanocci series of \",n,\"terms are :\")\n",
    "    while(count<n):\n",
    "        print(n1)\n",
    "        n3=n1+n2\n",
    "        n1=n2\n",
    "        n2=n3\n",
    "        count+=1\n",
    "    \n"
   ]
  },
  {
   "cell_type": "code",
   "execution_count": 9,
   "metadata": {},
   "outputs": [
    {
     "name": "stdout",
     "output_type": "stream",
     "text": [
      "Enter the numbers:1,2,3\n",
      "The sum of all items in the list is: 6\n"
     ]
    }
   ],
   "source": [
    "#program to find the sum of all items in a list\n",
    "num=input(\"Enter the numbers:\")\n",
    "list=num.split(\",\")\n",
    "sum=0\n",
    "i=0\n",
    "for i in list:\n",
    "    sum=sum+int(i)\n",
    "\n",
    "print(\"The sum of all items in the list is:\",sum)\n",
    "    "
   ]
  },
  {
   "cell_type": "code",
   "execution_count": 5,
   "metadata": {},
   "outputs": [
    {
     "ename": "SyntaxError",
     "evalue": "invalid syntax (<ipython-input-5-f882c7b11355>, line 4)",
     "output_type": "error",
     "traceback": [
      "\u001b[0;36m  File \u001b[0;32m\"<ipython-input-5-f882c7b11355>\"\u001b[0;36m, line \u001b[0;32m4\u001b[0m\n\u001b[0;31m    for i in range(1,n+1)\u001b[0m\n\u001b[0m                         ^\u001b[0m\n\u001b[0;31mSyntaxError\u001b[0m\u001b[0;31m:\u001b[0m invalid syntax\n"
     ]
    }
   ],
   "source": []
  },
  {
   "cell_type": "code",
   "execution_count": 9,
   "metadata": {},
   "outputs": [
    {
     "name": "stdout",
     "output_type": "stream",
     "text": [
      "Enter the number:4\n",
      "The required pyramid is :\n",
      "1 \n",
      "\n",
      "2 4 \n",
      "\n",
      "3 6 9 \n",
      "\n",
      "4 8 12 16 \n",
      "\n"
     ]
    }
   ],
   "source": [
    "#display the given pyramid with step no accepted by the user\n",
    "n=int(input(\"Enter the number:\"))\n",
    "print(\"The required pyramid is :\")\n",
    "for i in range(1,n+1):\n",
    "    for j in range(1,i+1):\n",
    "        print(i*j,end=\" \")\n",
    "    print(\"\\n\")"
   ]
  },
  {
   "cell_type": "code",
   "execution_count": 3,
   "metadata": {},
   "outputs": [
    {
     "name": "stdout",
     "output_type": "stream",
     "text": [
      "Enter a string:moonlight\n",
      "The frequency of characters of the entered string is:\n",
      "m- 1\n",
      "o- 2\n",
      "n- 1\n",
      "l- 1\n",
      "i- 1\n",
      "g- 1\n",
      "h- 1\n",
      "t- 1\n"
     ]
    }
   ],
   "source": [
    "#character frequency of a string\n",
    "str=input(\"Enter a string:\")\n",
    "l=len(str)\n",
    "str1=str\n",
    "f=[None]*l\n",
    "for i in range(l):\n",
    "    f[i]=1\n",
    "    for j in range(i+1,l):\n",
    "        if(str1[i]==str1[j]):\n",
    "            f[i]=f[i]+1\n",
    "            str1=str1[:j]+'0'+str1[j+1:]\n",
    "print(\"The frequency of characters of the entered string is:\")\n",
    "for i in range(0,len(f)):\n",
    "    if (str1[i] !=' ' and str1[i] !='0'):\n",
    "        print(str1[i]+\"-\",f[i])"
   ]
  },
  {
   "cell_type": "code",
   "execution_count": 2,
   "metadata": {},
   "outputs": [
    {
     "name": "stdout",
     "output_type": "stream",
     "text": [
      "Enter a number:6\n",
      "The factors of the given number 6 is:\n",
      "1 2 3 6 "
     ]
    }
   ],
   "source": [
    "#factors of a number\n",
    "num=int(input(\"Enter a number:\"))\n",
    "print(\"The factors of the given number\",num,\"is:\")\n",
    "for i in range(1,num+1):\n",
    "    if(num%i==0):\n",
    "        print(i,\"\",end=\"\")"
   ]
  },
  {
   "cell_type": "code",
   "execution_count": 5,
   "metadata": {},
   "outputs": [
    {
     "name": "stdout",
     "output_type": "stream",
     "text": [
      "*\n",
      "\n",
      "**\n",
      "\n",
      "***\n",
      "\n",
      "****\n",
      "\n",
      "*****\n",
      "\n",
      "****\n",
      "\n",
      "***\n",
      "\n",
      "**\n",
      "\n",
      "*\n",
      "\n"
     ]
    }
   ],
   "source": [
    "#pattern using nested loop\n",
    "for i in range(0,4):\n",
    "    for j in range(0,i+1):\n",
    "        print(\"*\",end=\"\")\n",
    "    print(\"\\n\")\n",
    "for i in range(4,-1,-1):\n",
    "    for j in range(0,i+1):\n",
    "        print(\"*\",end=\"\")\n",
    "    print(\"\\n\")\n",
    "    "
   ]
  },
  {
   "cell_type": "code",
   "execution_count": 3,
   "metadata": {},
   "outputs": [
    {
     "name": "stdout",
     "output_type": "stream",
     "text": [
      "Enter the string:malayalam\n",
      "Frequency of the character m is: 2\n",
      "Frequency of the character a is: 4\n",
      "Frequency of the character l is: 2\n",
      "Frequency of the character y is: 1\n"
     ]
    }
   ],
   "source": [
    "#character frequency of a string\n",
    "n=input(\"Enter the string:\")\n",
    "l=list(n)\n",
    "s=[]\n",
    "[s.append(x) for x in l if x not in s]\n",
    "for i in s:\n",
    "    m=l.count(i)\n",
    "    print(\"Frequency of the character\",i,\"is:\",m)\n"
   ]
  },
  {
   "cell_type": "code",
   "execution_count": null,
   "metadata": {
    "collapsed": true
   },
   "outputs": [],
   "source": []
  },
  {
   "cell_type": "code",
   "execution_count": null,
   "metadata": {
    "collapsed": true
   },
   "outputs": [],
   "source": []
  }
 ],
 "metadata": {
  "kernelspec": {
   "display_name": "Python 3",
   "language": "python",
   "name": "python3"
  },
  "language_info": {
   "codemirror_mode": {
    "name": "ipython",
    "version": 3
   },
   "file_extension": ".py",
   "mimetype": "text/x-python",
   "name": "python",
   "nbconvert_exporter": "python",
   "pygments_lexer": "ipython3",
   "version": "3.6.3"
  }
 },
 "nbformat": 4,
 "nbformat_minor": 2
}
