{
 "cells": [
  {
   "cell_type": "code",
   "execution_count": 1,
   "metadata": {},
   "outputs": [
    {
     "name": "stdout",
     "output_type": "stream",
     "text": [
      "Enter a name or a word : moonlight\n",
      "We have swapped something for you :  toonlighm\n"
     ]
    }
   ],
   "source": [
    "#pgm to swap first and last char of a string\n",
    "nm=input(\"Enter a name or a word : \")\n",
    "length=len(nm)\n",
    "nm=nm[length-1]+nm[1:length-1]+nm[0]\n",
    "print(\"We have swapped something for you : \",nm)\n"
   ]
  },
  {
   "cell_type": "code",
   "execution_count": 2,
   "metadata": {},
   "outputs": [
    {
     "name": "stdout",
     "output_type": "stream",
     "text": [
      "Enter a name or a word : moonlight\n",
      "Concatinated form is :  moht\n"
     ]
    }
   ],
   "source": [
    "#pgm to concat first two and last two char of the given string\n",
    "s=input(\"Enter a name or a word : \")\n",
    "length=len(s)\n",
    "z=s[0:2]+s[length-2:length]\n",
    "print('Concatinated form is : ',z)\n"
   ]
  },
  {
   "cell_type": "code",
   "execution_count": 3,
   "metadata": {},
   "outputs": [
    {
     "name": "stdout",
     "output_type": "stream",
     "text": [
      "Enter any string : moon\n",
      "Enter one more string : light\n",
      "Output string form is :  lion moght\n"
     ]
    }
   ],
   "source": [
    "#pgm to get a single string from two given strings and a space and swap first 2 char of each strings\n",
    "a=input(\"Enter any string : \")\n",
    "b=input(\"Enter one more string : \")\n",
    "length1=len(a)\n",
    "length2=len(b)\n",
    "z=b[0:2]+a[2:length1]+' '+a[0:2]+b[2:length2]\n",
    "print('Output string form is : ',z)\n"
   ]
  },
  {
   "cell_type": "code",
   "execution_count": 1,
   "metadata": {},
   "outputs": [
    {
     "name": "stdout",
     "output_type": "stream",
     "text": [
      "Enter a string : mom\n",
      "The new string is : mo$\n"
     ]
    }
   ],
   "source": [
    "#pgm to get a string where all occurence of its first char have changed to $,exept the first char\n",
    "string=input(\"Enter a string : \")\n",
    "str1=string[0]\n",
    "str2=string.replace(str1,\"$\")\n",
    "str3=str1+str2[1:]\n",
    "print(\"The new string is :\",str3)\n"
   ]
  },
  {
   "cell_type": "code",
   "execution_count": 2,
   "metadata": {},
   "outputs": [
    {
     "name": "stdout",
     "output_type": "stream",
     "text": [
      "Enter a string : malayalam\n",
      "The new string is : malayala$\n"
     ]
    }
   ],
   "source": [
    "#pgm to get a string where all occurence of its first char have changed to $,exept the first char\n",
    "string=input(\"Enter a string : \")\n",
    "str1=string[0]\n",
    "str2=string.replace(str1,\"$\")\n",
    "str3=str1+str2[1:]\n",
    "print(\"The new string is :\",str3)\n"
   ]
  },
  {
   "cell_type": "code",
   "execution_count": null,
   "metadata": {
    "collapsed": true
   },
   "outputs": [],
   "source": []
  }
 ],
 "metadata": {
  "kernelspec": {
   "display_name": "Python 3",
   "language": "python",
   "name": "python3"
  },
  "language_info": {
   "codemirror_mode": {
    "name": "ipython",
    "version": 3
   },
   "file_extension": ".py",
   "mimetype": "text/x-python",
   "name": "python",
   "nbconvert_exporter": "python",
   "pygments_lexer": "ipython3",
   "version": "3.6.3"
  }
 },
 "nbformat": 4,
 "nbformat_minor": 2
}
