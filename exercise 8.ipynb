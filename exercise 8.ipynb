{
 "cells": [
  {
   "cell_type": "code",
   "execution_count": 5,
   "metadata": {},
   "outputs": [
    {
     "name": "stdout",
     "output_type": "stream",
     "text": [
      "Enter the number:12345\n",
      "The sum of digits: 15\n"
     ]
    }
   ],
   "source": [
    "#function to find sum of digits of a number\n",
    "def getsum(n):\n",
    "    sum=0\n",
    "    for digit in str(n):\n",
    "        sum+=int(digit)\n",
    "    return sum\n",
    "n=int(input(\"Enter the number:\"))\n",
    "print(\"The sum of digits:\",getsum(n))\n"
   ]
  },
  {
   "cell_type": "code",
   "execution_count": 7,
   "metadata": {},
   "outputs": [
    {
     "name": "stdout",
     "output_type": "stream",
     "text": [
      "Enter the first number:20\n",
      "Enter the second number:20\n",
      "Enter the third number:20\n",
      "The numbers are equal and thrice of sum= 180\n"
     ]
    }
   ],
   "source": [
    "#if numbers are same find thrice, else find sum\n",
    "def numbers(a,b,c):\n",
    "    if(a==b==c):\n",
    "        sum=3*(a+b+c)\n",
    "        print(\"The numbers are equal and thrice of sum=\",sum)\n",
    "    else:\n",
    "        sum=a+b+c\n",
    "        print(\"The numbers are different and sum=\",sum)\n",
    "a=int(input(\"Enter the first number:\"))\n",
    "b=int(input(\"Enter the second number:\"))\n",
    "c=int(input(\"Enter the third number:\"))\n",
    "numbers(a,b,c);\n"
   ]
  },
  {
   "cell_type": "code",
   "execution_count": 16,
   "metadata": {},
   "outputs": [
    {
     "name": "stdout",
     "output_type": "stream",
     "text": [
      "Enter a string:AmmaA\n",
      "Upper case letters= 2\n",
      "Lower case letters= 3\n"
     ]
    }
   ],
   "source": [
    "#calculate the number of uppercase and lowercase letter of a string\n",
    "def case(w):\n",
    "    u=l=0\n",
    "    for i in w:\n",
    "        if i.isupper()==1:\n",
    "            u=u+1\n",
    "        elif i.islower()==1:\n",
    "            l=l+1\n",
    "    print(\"Upper case letters=\",u)\n",
    "    print(\"Lower case letters=\",l)\n",
    "s=input(\"Enter a string:\")\n",
    "case(s)\n"
   ]
  },
  {
   "cell_type": "code",
   "execution_count": 15,
   "metadata": {},
   "outputs": [
    {
     "name": "stdout",
     "output_type": "stream",
     "text": [
      "Enter a number:2\n"
     ]
    }
   ],
   "source": []
  },
  {
   "cell_type": "code",
   "execution_count": 17,
   "metadata": {},
   "outputs": [
    {
     "name": "stdout",
     "output_type": "stream",
     "text": [
      "Enter a number:7\n",
      "7 is a prime number\n"
     ]
    }
   ],
   "source": [
    "#program to find a number is prime or not\n",
    "def prime(n):\n",
    "    if n>1:\n",
    "        for i in range(2,int(n/2)+1):\n",
    "            if(n%i)==0:\n",
    "                print(n,\"is not a prime number\")\n",
    "                break\n",
    "        else:\n",
    "            print(n,\"is a prime number\")\n",
    "    else:\n",
    "        print(n,\"is not a prime number\")\n",
    "num=int(input(\"Enter a number:\"))\n",
    "prime(num)\n"
   ]
  },
  {
   "cell_type": "code",
   "execution_count": 8,
   "metadata": {},
   "outputs": [
    {
     "name": "stdout",
     "output_type": "stream",
     "text": [
      "Enter a year:2000\n",
      "Enter another year:2030\n",
      "2000 is a leap year\n",
      "2004 is a leap year\n",
      "2008 is a leap year\n",
      "2012 is a leap year\n",
      "2016 is a leap year\n",
      "2020 is a leap year\n",
      "2024 is a leap year\n",
      "2028 is a leap year\n"
     ]
    }
   ],
   "source": [
    "#program to find leap year\n",
    "def leap(year):\n",
    "    for y in range(year1,year2+1):\n",
    "        if y%4==0 and(y%100!=0 or y%400==0):\n",
    "            print(y,\"is a leap year\")\n",
    "year1=int(input(\"Enter a year:\"))\n",
    "year2=int(input(\"Enter another year:\"))\n",
    "leap(year1)\n"
   ]
  },
  {
   "cell_type": "code",
   "execution_count": 18,
   "metadata": {},
   "outputs": [
    {
     "name": "stdout",
     "output_type": "stream",
     "text": [
      "enter the name:anu\n",
      "Enter the salary:0\n",
      "Employee name: anu Employee salary: 8000\n"
     ]
    }
   ],
   "source": [
    "#function definition with default argument\n",
    "def employee(name,salary=8000):\n",
    "    print(\"Employee name:\",name,\"Employee salary:\",salary)\n",
    "name=str(input(\"enter the name:\"))\n",
    "salary=int(input(\"Enter the salary:\"))\n",
    "if salary>0:\n",
    "    employee(name,salary)\n",
    "else:\n",
    "    employee(name)\n",
    "\n",
    "    "
   ]
  },
  {
   "cell_type": "code",
   "execution_count": 2,
   "metadata": {},
   "outputs": [
    {
     "name": "stdout",
     "output_type": "stream",
     "text": [
      "Enter the values with coma separated by:1,2,3,4\n",
      "minimum of listed item is: 1\n"
     ]
    }
   ],
   "source": [
    "#minimum of argument values\n",
    "def minvalue(*tup):\n",
    "    print(\"minimum of listed item is:\",min(tup))\n",
    "n=list(map(int,input(\"Enter the values with coma separated by:\").split(\",\")))\n",
    "t=tuple(n)\n",
    "minvalue(*t)"
   ]
  },
  {
   "cell_type": "code",
   "execution_count": 4,
   "metadata": {},
   "outputs": [
    {
     "name": "stdout",
     "output_type": "stream",
     "text": [
      "Enter the number of persons:2\n",
      "Details for persons: 1\n",
      "Details for persons: 2\n",
      "Enter the number of information you wish to provide:2\n",
      "Enter any information:name\n",
      "Enter the value:sanu\n",
      "Enter any information:address\n",
      "Enter the value:mukkam\n",
      "{'name': 'sanu', 'address': 'mukkam'}\n",
      "\n",
      "\n"
     ]
    }
   ],
   "source": [
    "#function for user information\n",
    "def info(**d1):\n",
    "    print(d1)\n",
    "    d.clear()\n",
    "    print(\"\\n\")\n",
    "d={}\n",
    "n=int(input(\"Enter the number of persons:\"))\n",
    "for i in range(n):\n",
    "    print(\"Details for persons:\",i+1)\n",
    "n1=int(input(\"Enter the number of information you wish to provide:\"))\n",
    "for j in range(n1):\n",
    "    key=input(\"Enter any information:\")\n",
    "    val=input(\"Enter the value:\")\n",
    "    d.update({key:val})\n",
    "info(**d)"
   ]
  },
  {
   "cell_type": "code",
   "execution_count": null,
   "metadata": {
    "collapsed": true
   },
   "outputs": [],
   "source": []
  }
 ],
 "metadata": {
  "kernelspec": {
   "display_name": "Python 3",
   "language": "python",
   "name": "python3"
  },
  "language_info": {
   "codemirror_mode": {
    "name": "ipython",
    "version": 3
   },
   "file_extension": ".py",
   "mimetype": "text/x-python",
   "name": "python",
   "nbconvert_exporter": "python",
   "pygments_lexer": "ipython3",
   "version": "3.6.3"
  }
 },
 "nbformat": 4,
 "nbformat_minor": 2
}
