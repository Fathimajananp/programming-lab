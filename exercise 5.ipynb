{
 "cells": [
  {
   "cell_type": "code",
   "execution_count": 1,
   "metadata": {},
   "outputs": [
    {
     "name": "stdout",
     "output_type": "stream",
     "text": [
      "Enter the numbers that separated by commas :2,3,4,5,6\n",
      "The list of given numbers are : ['2', '3', '4', '5', '6']\n"
     ]
    }
   ],
   "source": [
    "#program for list the numbers in which the numbers are separated by comma\n",
    "numbers=input(\"Enter the numbers that separated by comma :\")\n",
    "list=numbers.split(\",\")\n",
    "print(\"The list of given numbers are :\",list)\n"
   ]
  },
  {
   "cell_type": "code",
   "execution_count": 2,
   "metadata": {},
   "outputs": [
    {
     "name": "stdout",
     "output_type": "stream",
     "text": [
      "Enter the colour names that separated by comma :red,blue,green,white\n",
      "The first colour from the list of colours is : red\n",
      "The last colour from the list of colours is : white\n"
     ]
    }
   ],
   "source": [
    "#program for display the first and last colours from the list of colors\n",
    "colour=input(\"Enter the colour names that separated by comma :\")\n",
    "list=colour.split(\",\")\n",
    "print(\"The first colour from the list of colours is :\",list[0])\n",
    "print(\"The last colour from the list of colours is :\",list[-1])\n"
   ]
  },
  {
   "cell_type": "code",
   "execution_count": 3,
   "metadata": {},
   "outputs": [
    {
     "name": "stdout",
     "output_type": "stream",
     "text": [
      "Enter the filename :colour.html\n",
      "The extension of the file is : html\n"
     ]
    }
   ],
   "source": [
    "#program for creating a filename and print the extension for that\n",
    "filename=input(\"Enter the filename :\")\n",
    "ext=filename.split(\".\")\n",
    "print(\"The extension of the file is :\",ext[-1])\n"
   ]
  },
  {
   "cell_type": "code",
   "execution_count": null,
   "metadata": {
    "collapsed": true
   },
   "outputs": [],
   "source": []
  }
 ],
 "metadata": {
  "kernelspec": {
   "display_name": "Python 3",
   "language": "python",
   "name": "python3"
  },
  "language_info": {
   "codemirror_mode": {
    "name": "ipython",
    "version": 3
   },
   "file_extension": ".py",
   "mimetype": "text/x-python",
   "name": "python",
   "nbconvert_exporter": "python",
   "pygments_lexer": "ipython3",
   "version": "3.6.3"
  }
 },
 "nbformat": 4,
 "nbformat_minor": 2
}
