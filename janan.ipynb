{
 "cells": [
  {
   "cell_type": "code",
   "execution_count": 1,
   "metadata": {
    "collapsed": true
   },
   "outputs": [],
   "source": [
    "import re\n",
    "m=re.match('foo','seafood')\n",
    "if m !=None:\n",
    "    print(m.group())\n",
    "    "
   ]
  },
  {
   "cell_type": "code",
   "execution_count": 2,
   "metadata": {},
   "outputs": [
    {
     "name": "stdout",
     "output_type": "stream",
     "text": [
      "foo\n"
     ]
    }
   ],
   "source": [
    "m=re.search('foo','seafood')\n",
    "if m!=None: print(m.group())\n",
    "    "
   ]
  },
  {
   "cell_type": "code",
   "execution_count": 3,
   "metadata": {},
   "outputs": [
    {
     "data": {
      "text/plain": [
       "'foo'"
      ]
     },
     "execution_count": 3,
     "metadata": {},
     "output_type": "execute_result"
    }
   ],
   "source": [
    "m=re.match('foo','food on the table')\n",
    "m.group()"
   ]
  },
  {
   "cell_type": "code",
   "execution_count": 4,
   "metadata": {},
   "outputs": [
    {
     "name": "stdout",
     "output_type": "stream",
     "text": [
      "['456776', '99900', '1', '25677', '55', '688']\n"
     ]
    }
   ],
   "source": [
    "#Findall\n",
    "import re\n",
    "a=\"hello 456776 world 99900 ok 1 25677 alpha 55 beta 688g\"\n",
    "print(re.findall(\"\\d+\",a))\n"
   ]
  },
  {
   "cell_type": "code",
   "execution_count": 5,
   "metadata": {},
   "outputs": [
    {
     "name": "stdout",
     "output_type": "stream",
     "text": [
      "zipcode: 20848293884\n"
     ]
    }
   ],
   "source": [
    "#remove anything other than digits\n",
    "import re\n",
    "zipcode=\"2084-8293-884 # this is a zipcode\"\n",
    "num=re.sub(\"\\D\",\"\",zipcode)\n",
    "print(\"zipcode:\",num)\n"
   ]
  },
  {
   "cell_type": "code",
   "execution_count": 9,
   "metadata": {},
   "outputs": [
    {
     "name": "stdout",
     "output_type": "stream",
     "text": [
      "ram is a boy\n",
      "\n",
      "sree is a girl\n",
      "\n",
      "the ram\n",
      "\n"
     ]
    }
   ],
   "source": [
    "# to display only lines containing 'a'\n",
    "import re\n",
    "file=open(\"ram.txt\",\"r\")\n",
    "text=file.readlines()\n",
    "file.close()\n",
    "keyword=re.compile('a')\n",
    "for line in text:\n",
    "    if keyword.search(line):\n",
    "        print(line)\n",
    "    "
   ]
  },
  {
   "cell_type": "code",
   "execution_count": 10,
   "metadata": {},
   "outputs": [
    {
     "name": "stdout",
     "output_type": "stream",
     "text": [
      "they both frends\n",
      "\n",
      "the ram\n",
      "\n",
      "the world\n",
      "\n"
     ]
    }
   ],
   "source": [
    "# to display only lines containing 'a'\n",
    "import re\n",
    "file=open(\"ram.txt\",\"r\")\n",
    "text=file.readlines()\n",
    "file.close()\n",
    "keyword=re.compile('the')\n",
    "for line in text:\n",
    "    if keyword.search(line):\n",
    "        print(line)\n",
    "    "
   ]
  },
  {
   "cell_type": "code",
   "execution_count": 11,
   "metadata": {},
   "outputs": [
    {
     "name": "stdout",
     "output_type": "stream",
     "text": [
      "02.05.99\n",
      "\n",
      "2.5.98\n",
      "\n"
     ]
    }
   ],
   "source": [
    "import re\n",
    "file=open(\"ram.txt\",\"r\")\n",
    "text=file.readlines()\n",
    "file.close()\n",
    "keyword=re.compile('\\d\\d?\\.\\d\\d?\\.\\d\\d')\n",
    "for line in text:\n",
    "    if keyword.search(line):\n",
    "        print(line)"
   ]
  },
  {
   "cell_type": "code",
   "execution_count": null,
   "metadata": {
    "collapsed": true
   },
   "outputs": [],
   "source": []
  }
 ],
 "metadata": {
  "kernelspec": {
   "display_name": "Python 3",
   "language": "python",
   "name": "python3"
  },
  "language_info": {
   "codemirror_mode": {
    "name": "ipython",
    "version": 3
   },
   "file_extension": ".py",
   "mimetype": "text/x-python",
   "name": "python",
   "nbconvert_exporter": "python",
   "pygments_lexer": "ipython3",
   "version": "3.6.3"
  }
 },
 "nbformat": 4,
 "nbformat_minor": 2
}
