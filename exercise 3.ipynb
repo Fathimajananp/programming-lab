{
 "cells": [
  {
   "cell_type": "code",
   "execution_count": 1,
   "metadata": {},
   "outputs": [
    {
     "name": "stdout",
     "output_type": "stream",
     "text": [
      "Enter one number : 9\n",
      "Enter another number : 12\n",
      "Enter one more number : 5\n",
      "Largest number among the given is : 12\n"
     ]
    }
   ],
   "source": [
    "#find the biggest of 3 numbers using max()\n",
    "a=int(input(\"Enter one number : \"))\n",
    "b=int(input(\"Enter another number : \"))\n",
    "c=int(input(\"Enter one more number : \"))\n",
    "print(\"Largest number among the given is : \"+str(max(a,b,c)))\n"
   ]
  },
  {
   "cell_type": "code",
   "execution_count": 3,
   "metadata": {},
   "outputs": [
    {
     "name": "stdout",
     "output_type": "stream",
     "text": [
      "Enter the distance in kilometer: 5\n",
      "Distance in Miles is: 3.106855\n"
     ]
    }
   ],
   "source": [
    "#convertion pgm of kilometer into miles\n",
    "km=int(input(\"Enter the distance in kilometer: \"))\n",
    "m=km*0.621371\n",
    "print(\"Distance in Miles is: \"+str(m))\n"
   ]
  },
  {
   "cell_type": "code",
   "execution_count": 4,
   "metadata": {},
   "outputs": [
    {
     "name": "stdout",
     "output_type": "stream",
     "text": [
      "Enter temparature in celcius : 20\n",
      "Given temparature in farenheit is : 68.0\n"
     ]
    }
   ],
   "source": [
    "#convertion pgm of temp unit celcius into farenheit\n",
    "a=int(input(\"Enter temparature in celcius : \"))\n",
    "f=(((9/5)*a)+32)\n",
    "print(\"Given temparature in farenheit is : \"+str(f))"
   ]
  },
  {
   "cell_type": "code",
   "execution_count": 5,
   "metadata": {},
   "outputs": [
    {
     "name": "stdout",
     "output_type": "stream",
     "text": [
      "Please enter the kilometer you have to go : 20\n",
      "20 kilometer, So you have 12.42742 Miles to go\n"
     ]
    }
   ],
   "source": [
    "km=int(input(\"Please enter the kilometer you have to go : \" ))\n",
    "m=km*0.621371\n",
    "print(str(km)+ \" kilometer, So you have \" +str(m)+ \" Miles to go\")\n"
   ]
  },
  {
   "cell_type": "code",
   "execution_count": null,
   "metadata": {
    "collapsed": true
   },
   "outputs": [],
   "source": []
  }
 ],
 "metadata": {
  "kernelspec": {
   "display_name": "Python 3",
   "language": "python",
   "name": "python3"
  },
  "language_info": {
   "codemirror_mode": {
    "name": "ipython",
    "version": 3
   },
   "file_extension": ".py",
   "mimetype": "text/x-python",
   "name": "python",
   "nbconvert_exporter": "python",
   "pygments_lexer": "ipython3",
   "version": "3.6.3"
  }
 },
 "nbformat": 4,
 "nbformat_minor": 2
}
