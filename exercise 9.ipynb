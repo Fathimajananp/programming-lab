{
 "cells": [
  {
   "cell_type": "code",
   "execution_count": 2,
   "metadata": {},
   "outputs": [
    {
     "name": "stdout",
     "output_type": "stream",
     "text": [
      "Enter a list of words with coma separated:anu,anshi,ansu\n",
      "The length of longest word : 5\n"
     ]
    }
   ],
   "source": [
    "#length of longest word\n",
    "w=[]\n",
    "l=input(\"Enter a list of words with coma separated:\")\n",
    "l=l.split(\",\")\n",
    "for i in l:\n",
    "    w.append(len(i))\n",
    "print(\"The length of longest word :\",max(w))\n"
   ]
  },
  {
   "cell_type": "code",
   "execution_count": 4,
   "metadata": {},
   "outputs": [
    {
     "name": "stdout",
     "output_type": "stream",
     "text": [
      "Enter a word :smile\n",
      "The word before formatting is : smile\n",
      "The word after formatting is : smileing\n"
     ]
    }
   ],
   "source": [
    "#add 'ing' at the end of the string. if it is  already have then add 'ly'\n",
    "word=input(\"Enter a word :\")\n",
    "print(\"The word before formatting is :\",word)\n",
    "str1=word[-3:]\n",
    "if str1=='ing':\n",
    "    word=word+\"ly\"\n",
    "else:\n",
    "    word=word+\"ing\"\n",
    "print(\"The word after formatting is :\",word)\n"
   ]
  },
  {
   "cell_type": "code",
   "execution_count": 4,
   "metadata": {},
   "outputs": [
    {
     "name": "stdout",
     "output_type": "stream",
     "text": [
      "Enter 4 digit lower range:1000\n",
      "Enter 4 digit upper range:9999\n",
      "The required List is = [4624, 6084, 6400, 8464]\n"
     ]
    }
   ],
   "source": [
    "#generate a list of four digit numbers in a given range with all their digits even and the number is a perfect square\n",
    "import math\n",
    "n1=int(input(\"Enter 4 digit lower range:\"))\n",
    "n2=int(input(\"Enter 4 digit upper range:\"))\n",
    "l=[]\n",
    "x=0\n",
    "for i in range(n1,n2):\n",
    "    x=i\n",
    "    while(x!=0):\n",
    "        k1=x%10\n",
    "        x=int(x/10)\n",
    "        k2=x%10\n",
    "        x=int(x/10)\n",
    "        k3=x%10\n",
    "        x=int(x/10)\n",
    "        k4=x%10\n",
    "        x=int(x/10)\n",
    "        sq=int(math.sqrt(i))\n",
    "        if sq*sq==i:\n",
    "            if k1%2==0 and k2%2==0 and k3%2==0 and k4%2==0:\n",
    "                l.append(i)\n",
    "print(\"The required List is =\",l)"
   ]
  },
  {
   "cell_type": "code",
   "execution_count": 3,
   "metadata": {},
   "outputs": [
    {
     "name": "stdout",
     "output_type": "stream",
     "text": [
      "\n",
      "1.SQUARE\n",
      "2.RECTANGLE\n",
      "3.TRIANGLE\n",
      "4.EXIT\n",
      "Enter your choice :1\n",
      "Enter the side of square :2\n",
      "Area of square is : 4\n",
      "\n",
      "1.SQUARE\n",
      "2.RECTANGLE\n",
      "3.TRIANGLE\n",
      "4.EXIT\n",
      "Enter your choice :2\n",
      "Enter the length of rectangle :3\n",
      "Enter the breadth of rectangle :4\n",
      "Area of rectangle is : 12\n",
      "\n",
      "1.SQUARE\n",
      "2.RECTANGLE\n",
      "3.TRIANGLE\n",
      "4.EXIT\n",
      "Enter your choice :3\n",
      "Enter the base of triangle :3\n",
      "Enter the height of triangle :4\n",
      "Area of triangle is : 6.0\n",
      "\n",
      "1.SQUARE\n",
      "2.RECTANGLE\n",
      "3.TRIANGLE\n",
      "4.EXIT\n",
      "Enter your choice :4\n",
      "Exiting...!\n"
     ]
    }
   ],
   "source": [
    "#lamba function to find the area of square ,rectangle,and triangle\n",
    "sarea=lambda a:a*a\n",
    "recarea=lambda a,b:a*b\n",
    "triarea=lambda b,h:(b*h)/2\n",
    "while(1):\n",
    "    print(\"\\n1.SQUARE\\n2.RECTANGLE\\n3.TRIANGLE\\n4.EXIT\")\n",
    "    c=int(input(\"Enter your choice :\"))\n",
    "    if c==1:\n",
    "        a=int(input(\"Enter the side of square :\"))\n",
    "        print(\"Area of square is :\",sarea(a))\n",
    "    elif c==2:\n",
    "        a=int(input(\"Enter the length of rectangle :\"))\n",
    "        b=int(input(\"Enter the breadth of rectangle :\"))\n",
    "        print(\"Area of rectangle is :\",recarea(a,b))\n",
    "    elif c==3:\n",
    "        b=int(input(\"Enter the base of triangle :\"))\n",
    "        h=int(input(\"Enter the height of triangle :\"))\n",
    "        print(\"Area of triangle is :\",triarea(b,h))\n",
    "    else:\n",
    "        print(\"Exiting...!\")\n",
    "        break"
   ]
  },
  {
   "cell_type": "code",
   "execution_count": null,
   "metadata": {
    "collapsed": true
   },
   "outputs": [],
   "source": []
  }
 ],
 "metadata": {
  "kernelspec": {
   "display_name": "Python 3",
   "language": "python",
   "name": "python3"
  },
  "language_info": {
   "codemirror_mode": {
    "name": "ipython",
    "version": 3
   },
   "file_extension": ".py",
   "mimetype": "text/x-python",
   "name": "python",
   "nbconvert_exporter": "python",
   "pygments_lexer": "ipython3",
   "version": "3.6.3"
  }
 },
 "nbformat": 4,
 "nbformat_minor": 2
}
