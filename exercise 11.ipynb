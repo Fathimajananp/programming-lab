{
 "cells": [
  {
   "cell_type": "code",
   "execution_count": 3,
   "metadata": {},
   "outputs": [
    {
     "name": "stdout",
     "output_type": "stream",
     "text": [
      "Enter the source file to be copied:myfile.txt\n",
      "Enter the destination file name:newfile.txt\n",
      "file copied\n"
     ]
    }
   ],
   "source": [
    "#pgm to copy a text file to another file\n",
    "file1=input(\"Enter the source file to be copied:\")\n",
    "file2=input(\"Enter the destination file name:\")\n",
    "fr=open(file1,\"r\")\n",
    "fw=open(file2,\"w\")\n",
    "for line in fr.readlines():\n",
    "    fw.write(line)\n",
    "fr.close()\n",
    "fw.close()\n",
    "print(\"file copied\")\n"
   ]
  },
  {
   "cell_type": "code",
   "execution_count": 1,
   "metadata": {},
   "outputs": [
    {
     "name": "stdout",
     "output_type": "stream",
     "text": [
      "Enter the file name to append :myfile.txt\n",
      "Enter the file name to be append :myfiles.txt\n",
      "File appended...\n"
     ]
    }
   ],
   "source": [
    "#append a file with another file\n",
    "file1=input(\"Enter the file name to append :\")\n",
    "file2=input(\"Enter the file name to be append :\")\n",
    "f2=open(file2,\"a+\")\n",
    "f1=open(file1,\"r\")\n",
    "l=f1.readlines()\n",
    "f2.writelines(l)\n",
    "f1.close()\n",
    "f2.close()\n",
    "print(\"File appended...\")\n"
   ]
  },
  {
   "cell_type": "code",
   "execution_count": 1,
   "metadata": {},
   "outputs": [
    {
     "name": "stdout",
     "output_type": "stream",
     "text": [
      "Enter the source file name :myfile.txt\n",
      "3\n"
     ]
    }
   ],
   "source": [
    "#number of lines in a file\n",
    "l=[]\n",
    "file1=input(\"Enter the source file name :\")\n",
    "f1=open(file1,\"r\")\n",
    "for line in f1.readlines():\n",
    "    l.append(line)\n",
    "print(len(l))\n"
   ]
  },
  {
   "cell_type": "code",
   "execution_count": 2,
   "metadata": {},
   "outputs": [
    {
     "name": "stdout",
     "output_type": "stream",
     "text": [
      "Enter the source file :myfile.txt\n",
      "Enter the destination file :oddfile.txt\n",
      "Odd lines coppied \n"
     ]
    }
   ],
   "source": [
    "#program to copy odd lines\n",
    "file1=input(\"Enter the source file :\")\n",
    "file2=input(\"Enter the destination file :\")\n",
    "fr=open(file1,\"r\")\n",
    "fw=open(\"file2\",\"w\")\n",
    "i=0\n",
    "for l in fr.readlines():\n",
    "    i+=1\n",
    "    if i%2==0:\n",
    "        continue\n",
    "    fw.write(l)\n",
    "fr.close()\n",
    "fw.close()\n",
    "print(\"Odd lines coppied \")\n"
   ]
  },
  {
   "cell_type": "code",
   "execution_count": null,
   "metadata": {
    "collapsed": true
   },
   "outputs": [],
   "source": []
  }
 ],
 "metadata": {
  "kernelspec": {
   "display_name": "Python 3",
   "language": "python",
   "name": "python3"
  },
  "language_info": {
   "codemirror_mode": {
    "name": "ipython",
    "version": 3
   },
   "file_extension": ".py",
   "mimetype": "text/x-python",
   "name": "python",
   "nbconvert_exporter": "python",
   "pygments_lexer": "ipython3",
   "version": "3.6.3"
  }
 },
 "nbformat": 4,
 "nbformat_minor": 2
}
