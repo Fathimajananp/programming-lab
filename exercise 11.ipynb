{
 "cells": [
  {
   "cell_type": "code",
   "execution_count": 3,
   "metadata": {},
   "outputs": [
    {
     "name": "stdout",
     "output_type": "stream",
     "text": [
      "Enter the source file to be copied:myfile.txt\n",
      "Enter the destination file name:newfile.txt\n",
      "file copied\n"
     ]
    }
   ],
   "source": [
    "#pgm to copy a text file to another file\n",
    "file1=input(\"Enter the source file to be copied:\")\n",
    "file2=input(\"Enter the destination file name:\")\n",
    "fr=open(file1,\"r\")\n",
    "fw=open(file2,\"w\")\n",
    "for line in fr.readlines():\n",
    "    fw.write(line)\n",
    "fr.close()\n",
    "fw.close()\n",
    "print(\"file copied\")\n"
   ]
  },
  {
   "cell_type": "code",
   "execution_count": 1,
   "metadata": {},
   "outputs": [
    {
     "name": "stdout",
     "output_type": "stream",
     "text": [
      "Enter the file name to append :myfile.txt\n",
      "Enter the file name to be append :myfiles.txt\n",
      "File appended...\n"
     ]
    }
   ],
   "source": [
    "#append a file with another file\n",
    "file1=input(\"Enter the file name to append :\")\n",
    "file2=input(\"Enter the file name to be append :\")\n",
    "f2=open(file2,\"a+\")\n",
    "f1=open(file1,\"r\")\n",
    "l=f1.readlines()\n",
    "f2.writelines(l)\n",
    "f1.close()\n",
    "f2.close()\n",
    "print(\"File appended...\")\n"
   ]
  },
  {
   "cell_type": "code",
   "execution_count": 1,
   "metadata": {},
   "outputs": [
    {
     "name": "stdout",
     "output_type": "stream",
     "text": [
      "Enter the source file name :myfile.txt\n",
      "3\n"
     ]
    }
   ],
   "source": [
    "#number of lines in a file\n",
    "l=[]\n",
    "file1=input(\"Enter the source file name :\")\n",
    "f1=open(file1,\"r\")\n",
    "for line in f1.readlines():\n",
    "    l.append(line)\n",
    "print(len(l))\n"
   ]
  },
  {
   "cell_type": "code",
   "execution_count": 1,
   "metadata": {},
   "outputs": [
    {
     "name": "stdout",
     "output_type": "stream",
     "text": [
      "Enter the source file :myfile.txt\n",
      "Enter the destination file :fg.txt\n",
      "Odd lines coppied \n"
     ]
    }
   ],
   "source": [
    "#program to copy odd lines\n",
    "file1=input(\"Enter the source file :\")\n",
    "file2=input(\"Enter the destination file :\")\n",
    "fr=open(file1,\"r\")\n",
    "fw=open(\"file2\",\"w\")\n",
    "i=0\n",
    "for l in fr.readlines():\n",
    "    i+=1\n",
    "    if i%2==0:\n",
    "        continue\n",
    "        fw.write(l)\n",
    "fr.close()\n",
    "fw.close()\n",
    "print(\"Odd lines coppied \")\n"
   ]
  },
  {
   "cell_type": "code",
   "execution_count": 5,
   "metadata": {},
   "outputs": [
    {
     "name": "stdout",
     "output_type": "stream",
     "text": [
      "Enter the source csv file name :csv1.csv\n",
      "Enter coma separated empid,empname,deptname,dob,salary :002,anshi,sales,17-04-1995,8500\n",
      "{'empid': 'empid', 'empname': 'empname', 'dept': 'dept', 'dob': 'dob', 'salary': 'salary'}\n",
      "{'empid': '001', 'empname': 'anu', 'dept': 'hr', 'dob': '18-05-1999', 'salary': '9000'}\n",
      "{'empid': 'empid', 'empname': 'empname', 'dept': 'dept', 'dob': 'dob', 'salary': 'salary'}\n",
      "{'empid': '002', 'empname': 'anshi', 'dept': 'sales', 'dob': '17-04-1995', 'salary': '8500'}\n"
     ]
    }
   ],
   "source": [
    "#write a python program to write a python dictionary to a csv file\n",
    "#after writing the csv file read the csv file and display the content\n",
    "#create an employee csv file with fields EmployeeId,EmployeeName,DOB,Salary\n",
    "import csv\n",
    "file1=input(\"Enter the source csv file name :\")\n",
    "with open(file1,\"a+\",newline='') as f1:\n",
    "    empdata=[\"empid\",\"empname\",\"dept\",\"dob\",\"salary\"]\n",
    "    l=[]\n",
    "    writer=csv.DictWriter(f1,fieldnames=empdata)\n",
    "    writer.writeheader()\n",
    "    for i in range(1):\n",
    "        l=list(input(\"Enter coma separated empid,empname,deptname,dob,salary :\").split(\",\"))\n",
    "        writer.writerow({'empid':l[0],'empname':l[1],'dept':l[2],'dob':l[3],'salary':l[4]})\n",
    "        l.clear()\n",
    "with open(file1,'r') as f2:\n",
    "    rdr=csv.DictReader(f2)\n",
    "    for item in rdr:\n",
    "        print(dict(item))\n",
    "        "
   ]
  },
  {
   "cell_type": "code",
   "execution_count": 6,
   "metadata": {},
   "outputs": [
    {
     "name": "stdout",
     "output_type": "stream",
     "text": [
      "Enter csv file name with extension csv :csv1.csv\n",
      "['empid', 'empname', 'dept', 'dob', 'salary']\n",
      "['empid', 'empname', 'dept', 'dob', 'salary']\n",
      "['001', 'anu', 'hr', '18-05-1999', '9000']\n",
      "['empid', 'empname', 'dept', 'dob', 'salary']\n",
      "['002', 'anshi', 'sales', '17-04-1995', '8500']\n"
     ]
    }
   ],
   "source": [
    "#write a python program to read each row from a given csv file and print a list of strings\n",
    "import csv\n",
    "fname=input(\"Enter csv file name with extension csv :\")\n",
    "f1=open(fname,\"r\")\n",
    "reader=csv.reader(f1)\n",
    "for row in reader:\n",
    "    print(row)\n",
    "f1.close()\n"
   ]
  },
  {
   "cell_type": "code",
   "execution_count": 1,
   "metadata": {},
   "outputs": [
    {
     "name": "stdout",
     "output_type": "stream",
     "text": [
      "Enter the new file name(extension csv) :csv2.csv\n",
      "Enter the number of rows :3\n",
      "Enter coma seperated DeptId,DeptName,TE,Location :001,sales,10,mkm\n",
      "Enter coma seperated DeptId,DeptName,TE,Location :002,hr,15,kgm\n",
      "Enter coma seperated DeptId,DeptName,TE,Location :003,manager,5,calicut\n",
      "hello\n"
     ]
    }
   ],
   "source": [
    "#create a department csv file with fields-deptID,deptname,totalemployees,location.\n",
    "#write a python program to read specific coloumns (deptID,deptName) of the given csv file\n",
    "#and print the content of the coloumns\n",
    "import csv\n",
    "file1=input(\"Enter the new file name(extension csv) :\")\n",
    "f1=open(file1,\"w\",newline=\"\")\n",
    "writer=csv.writer(f1)\n",
    "writer.writerow([\"DeptId\",\"DeptName\",\"TE\",\"Location\"])\n",
    "num=int(input(\"Enter the number of rows :\"))\n",
    "for i in range(num):\n",
    "    l=list(input(\"Enter coma seperated DeptId,DeptName,TE,Location :\").split(\",\"))\n",
    "    writer.writerow(l)\n",
    "    l.clear()\n",
    "with open(file1,\"r\") as f2:\n",
    "    print(\"hello\")\n",
    "    rdr=csv.reader(f2)\n",
    "    for row in rdr:\n",
    "        print(\"hai\")\n",
    "        print(c)\n",
    "        "
   ]
  },
  {
   "cell_type": "code",
   "execution_count": null,
   "metadata": {
    "collapsed": true
   },
   "outputs": [],
   "source": []
  },
  {
   "cell_type": "code",
   "execution_count": null,
   "metadata": {
    "collapsed": true
   },
   "outputs": [],
   "source": []
  }
 ],
 "metadata": {
  "kernelspec": {
   "display_name": "Python 3",
   "language": "python",
   "name": "python3"
  },
  "language_info": {
   "codemirror_mode": {
    "name": "ipython",
    "version": 3
   },
   "file_extension": ".py",
   "mimetype": "text/x-python",
   "name": "python",
   "nbconvert_exporter": "python",
   "pygments_lexer": "ipython3",
   "version": "3.6.3"
  }
 },
 "nbformat": 4,
 "nbformat_minor": 2
}
