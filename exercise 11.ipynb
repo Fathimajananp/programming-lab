{
 "cells": [
  {
   "cell_type": "code",
   "execution_count": 3,
   "metadata": {},
   "outputs": [
    {
     "name": "stdout",
     "output_type": "stream",
     "text": [
      "Enter the source file to be copied:myfile.txt\n",
      "Enter the destination file name:newfile.txt\n",
      "file copied\n"
     ]
    }
   ],
   "source": [
    "#pgm to copy a text file to another file\n",
    "file1=input(\"Enter the source file to be copied:\")\n",
    "file2=input(\"Enter the destination file name:\")\n",
    "fr=open(file1,\"r\")\n",
    "fw=open(file2,\"w\")\n",
    "for line in fr.readlines():\n",
    "    fw.write(line)\n",
    "fr.close()\n",
    "fw.close()\n",
    "print(\"file copied\")\n"
   ]
  },
  {
   "cell_type": "code",
   "execution_count": 1,
   "metadata": {},
   "outputs": [
    {
     "name": "stdout",
     "output_type": "stream",
     "text": [
      "Enter the file name to append :myfile.txt\n",
      "Enter the file name to be append :myfiles.txt\n",
      "File appended...\n"
     ]
    }
   ],
   "source": [
    "#append a file with another file\n",
    "file1=input(\"Enter the file name to append :\")\n",
    "file2=input(\"Enter the file name to be append :\")\n",
    "f2=open(file2,\"a+\")\n",
    "f1=open(file1,\"r\")\n",
    "l=f1.readlines()\n",
    "f2.writelines(l)\n",
    "f1.close()\n",
    "f2.close()\n",
    "print(\"File appended...\")\n"
   ]
  },
  {
   "cell_type": "code",
   "execution_count": 1,
   "metadata": {},
   "outputs": [
    {
     "name": "stdout",
     "output_type": "stream",
     "text": [
      "Enter the source file name :myfile.txt\n",
      "3\n"
     ]
    }
   ],
   "source": [
    "#number of lines in a file\n",
    "l=[]\n",
    "file1=input(\"Enter the source file name :\")\n",
    "f1=open(file1,\"r\")\n",
    "for line in f1.readlines():\n",
    "    l.append(line)\n",
    "print(len(l))\n"
   ]
  },
  {
   "cell_type": "code",
   "execution_count": 1,
   "metadata": {},
   "outputs": [
    {
     "name": "stdout",
     "output_type": "stream",
     "text": [
      "Enter the source file name : myfile.txt\n",
      "Enter the desination file name: file.txt\n",
      "File copied...\n"
     ]
    }
   ],
   "source": [
    "#Copy odd lines of one file to other\n",
    "file1=input(\"Enter the source file name : \")\n",
    "file2=input(\"Enter the desination file name: \")\n",
    "f1=open(file1,\"r\")\n",
    "f2=open(file2,\"w\")\n",
    "i=0\n",
    "for line in f1.readlines():\n",
    "    i=i+1\n",
    "    if i%2 ==0:\n",
    "        continue\n",
    "    f2.write(line)\n",
    "f1.close()\n",
    "f2.close()\n",
    "print(\"File copied...\")\n"
   ]
  },
  {
   "cell_type": "code",
   "execution_count": 1,
   "metadata": {},
   "outputs": [
    {
     "name": "stdout",
     "output_type": "stream",
     "text": [
      "Enter the source csv file name :csvv.csv\n",
      "Enter coma separated empid,empname,deptname,dob,salary :001,anu,hr,3-1-1996,15000\n",
      "{'empid': '001', 'empname': 'anu', 'dept': 'hr', 'dob': '3-1-1996', 'salary': '15000'}\n"
     ]
    }
   ],
   "source": [
    "#write a python program to write a python dictionary to a csv file\n",
    "#after writing the csv file read the csv file and display the content\n",
    "#create an employee csv file with fields EmployeeId,EmployeeName,DOB,Salary\n",
    "import csv\n",
    "file1=input(\"Enter the source csv file name :\")\n",
    "with open(file1,\"a+\",newline='') as f1:\n",
    "    empdata=[\"empid\",\"empname\",\"dept\",\"dob\",\"salary\"]\n",
    "    l=[]\n",
    "    writer=csv.DictWriter(f1,fieldnames=empdata)\n",
    "    writer.writeheader()\n",
    "    for i in range(1):\n",
    "        l=list(input(\"Enter coma separated empid,empname,deptname,dob,salary :\").split(\",\"))\n",
    "        writer.writerow({'empid':l[0],'empname':l[1],'dept':l[2],'dob':l[3],'salary':l[4]})\n",
    "        l.clear()\n",
    "with open(file1,'r') as f2:\n",
    "    rdr=csv.DictReader(f2)\n",
    "    for item in rdr:\n",
    "        print(dict(item))\n",
    "        "
   ]
  },
  {
   "cell_type": "code",
   "execution_count": 2,
   "metadata": {},
   "outputs": [
    {
     "name": "stdout",
     "output_type": "stream",
     "text": [
      "Enter csv file name with extension csv :csvv.csv\n",
      "['empid', 'empname', 'dept', 'dob', 'salary']\n",
      "['001', 'anu', 'hr', '3-1-1996', '15000']\n"
     ]
    }
   ],
   "source": [
    "#write a python program to read each row from a given csv file and print a list of strings\n",
    "import csv\n",
    "fname=input(\"Enter csv file name with extension csv :\")\n",
    "f1=open(fname,\"r\")\n",
    "reader=csv.reader(f1)\n",
    "for row in reader:\n",
    "    print(row)\n",
    "f1.close()\n"
   ]
  },
  {
   "cell_type": "markdown",
   "metadata": {},
   "source": []
  },
  {
   "cell_type": "markdown",
   "metadata": {},
   "source": []
  },
  {
   "cell_type": "code",
   "execution_count": null,
   "metadata": {
    "collapsed": true
   },
   "outputs": [],
   "source": []
  },
  {
   "cell_type": "code",
   "execution_count": 2,
   "metadata": {},
   "outputs": [
    {
     "name": "stdout",
     "output_type": "stream",
     "text": [
      "Enter the new file name(extention csv): csvw.csv\n",
      "Enter number of dept: 2\n",
      "Enter coma seperated deptId,DeptName,TotalEmp,Location : 001,sales,10,kgm\n",
      "Enter coma seperated deptId,DeptName,TotalEmp,Location : 002,hr,5,tsy\n",
      "DepartmentId Department\n",
      "001            sales\n",
      "002            hr\n"
     ]
    }
   ],
   "source": [
    "#Create a dept csv file-Deptid,Deptname,Totalemployees,location.Read specific columns-Deptid,Deptname\n",
    "#of csv file and print content of columns\n",
    "import csv\n",
    "file1=input(\"Enter the new file name(extention csv): \")\n",
    "with open(file1,\"a+\",newline='')as f1:\n",
    "    depdata=[\"DeptId\",\"DeptName\",\"TotalEmp\",\"Location\"]\n",
    "    l=[]\n",
    "    writer=csv.DictWriter(f1,fieldnames=depdata)\n",
    "    writer.writeheader()\n",
    "    n=int(input(\"Enter number of dept: \"))\n",
    "    for i in range(n):\n",
    "        l=list(input(\"Enter coma seperated deptId,DeptName,TotalEmp,Location : \").split(\",\"))\n",
    "        writer.writerow({'DeptId':l[0],'DeptName':l[1],'TotalEmp':l[2],'Location':l[3]})\n",
    "        l.clear()\n",
    "print(\"DepartmentId Department\")\n",
    "with open(file1,'r') as f2:\n",
    "    rdr=csv.DictReader(f2)\n",
    "    for item in rdr:\n",
    "        print(item[\"DeptId\"],\"          \",item[\"DeptName\"])\n"
   ]
  },
  {
   "cell_type": "code",
   "execution_count": null,
   "metadata": {
    "collapsed": true
   },
   "outputs": [],
   "source": []
  }
 ],
 "metadata": {
  "kernelspec": {
   "display_name": "Python 3",
   "language": "python",
   "name": "python3"
  },
  "language_info": {
   "codemirror_mode": {
    "name": "ipython",
    "version": 3
   },
   "file_extension": ".py",
   "mimetype": "text/x-python",
   "name": "python",
   "nbconvert_exporter": "python",
   "pygments_lexer": "ipython3",
   "version": "3.6.3"
  }
 },
 "nbformat": 4,
 "nbformat_minor": 2
}
