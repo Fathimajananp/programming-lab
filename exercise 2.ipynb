{
 "cells": [
  {
   "cell_type": "code",
   "execution_count": 1,
   "metadata": {},
   "outputs": [
    {
     "name": "stdout",
     "output_type": "stream",
     "text": [
      "Enter the radius of the circle:2\n",
      "Area of circle is: 12.566370614359172\n"
     ]
    }
   ],
   "source": [
    "#input radius and find area\n",
    "import math\n",
    "r=int(input(\"Enter the radius of the circle:\"))\n",
    "a=math.pi*r*r\n",
    "print('Area of circle is:',a)\n"
   ]
  },
  {
   "cell_type": "code",
   "execution_count": 2,
   "metadata": {},
   "outputs": [
    {
     "name": "stdout",
     "output_type": "stream",
     "text": [
      "Enter an integer:3\n",
      "sum is: 369\n"
     ]
    }
   ],
   "source": [
    "#to print sum of a no. in a format as n+nn+nnn\n",
    "n=int(input(\"Enter an integer:\"))\n",
    "print(\"sum is:\",((n)+((n*10)+n)+((n*100)+(n*10)+(n))))\n"
   ]
  },
  {
   "cell_type": "code",
   "execution_count": null,
   "metadata": {
    "collapsed": true
   },
   "outputs": [],
   "source": []
  }
 ],
 "metadata": {
  "kernelspec": {
   "display_name": "Python 3",
   "language": "python",
   "name": "python3"
  },
  "language_info": {
   "codemirror_mode": {
    "name": "ipython",
    "version": 3
   },
   "file_extension": ".py",
   "mimetype": "text/x-python",
   "name": "python",
   "nbconvert_exporter": "python",
   "pygments_lexer": "ipython3",
   "version": "3.6.3"
  }
 },
 "nbformat": 4,
 "nbformat_minor": 2
}
