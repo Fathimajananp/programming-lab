{
 "cells": [
  {
   "cell_type": "code",
   "execution_count": 1,
   "metadata": {},
   "outputs": [
    {
     "name": "stdout",
     "output_type": "stream",
     "text": [
      "Enter the numbers using comma:1,-1,2\n",
      "positive list is : [1, 2]\n"
     ]
    }
   ],
   "source": [
    "#positive list of numbers from a given list of numbers\n",
    "l=list(map(int,input(\"Enter the numbers using comma:\").split(\",\")))\n",
    "m=[x for x in l if x>0]\n",
    "print(\"positive list is :\",m)\n"
   ]
  },
  {
   "cell_type": "code",
   "execution_count": 2,
   "metadata": {},
   "outputs": [
    {
     "name": "stdout",
     "output_type": "stream",
     "text": [
      "Enter the numbers using comma :1,2,3,4\n",
      "square of n number is :  [1, 4, 9, 16]\n"
     ]
    }
   ],
   "source": [
    "#square of numbers\n",
    "l=list(map(int,input(\"Enter the numbers using comma :\").split(\",\")))\n",
    "m=[x*x for x in l]\n",
    "print(\"square of n number is : \",m)\n"
   ]
  },
  {
   "cell_type": "code",
   "execution_count": 3,
   "metadata": {},
   "outputs": [
    {
     "name": "stdout",
     "output_type": "stream",
     "text": [
      "Enter a string :moonlight\n",
      "['o', 'i']\n"
     ]
    }
   ],
   "source": [
    "#forming vowels from a given word\n",
    "n=input(\"Enter a string :\")\n",
    "l=list(n)\n",
    "m=['a','e','i','o','u','A','E','I','O','U']\n",
    "s=[]\n",
    "[s.append(x) for x in l if x in m and x not in s]\n",
    "print(s)\n"
   ]
  },
  {
   "cell_type": "code",
   "execution_count": 4,
   "metadata": {},
   "outputs": [
    {
     "name": "stdout",
     "output_type": "stream",
     "text": [
      "Enter the word :car\n",
      "ordinal values of each word is : [99, 97, 114]\n"
     ]
    }
   ],
   "source": [
    "#ordinal value of each element of a word\n",
    "n=list(input(\"Enter the word :\"))\n",
    "m=[ord(x) for x in n]\n",
    "print(\"ordinal values of each word is :\",m)\n"
   ]
  },
  {
   "cell_type": "code",
   "execution_count": 1,
   "metadata": {},
   "outputs": [
    {
     "name": "stdout",
     "output_type": "stream",
     "text": [
      "Enter the numbers using coma :1,300,20,400,100,50\n",
      "[1, 'over', 20, 'over', 100, 50]\n"
     ]
    }
   ],
   "source": [
    "#list of integer for all values greater than 100 store \"over\" instead\n",
    "n=list(map(int,input(\"Enter the numbers using coma :\").split(\",\")))\n",
    "for x in range(len(n)):\n",
    "    if n[x]>100:\n",
    "        n[x]=\"over\"\n",
    "print(n)\n"
   ]
  },
  {
   "cell_type": "code",
   "execution_count": 2,
   "metadata": {},
   "outputs": [
    {
     "name": "stdout",
     "output_type": "stream",
     "text": [
      "Enter names separated by commas:anu,ansha,aami\n",
      "no of occurence of a in anu is: 1\n",
      "no of occurence of a in ansha is: 2\n",
      "no of occurence of a in aami is: 2\n",
      "total occurence of a in list is: 5\n"
     ]
    }
   ],
   "source": [
    "#numbers of occurences of 'a' in list of first names\n",
    "n=input(\"Enter names separated by commas:\")\n",
    "l=n.split(\",\")\n",
    "t=0\n",
    "for i in l:\n",
    "    print(\"no of occurence of a in\",i,\"is:\",i.count('a'))\n",
    "    t=t+i.count(\"a\")\n",
    "print(\"total occurence of a in list is:\",t)"
   ]
  },
  {
   "cell_type": "code",
   "execution_count": 3,
   "metadata": {},
   "outputs": [
    {
     "name": "stdout",
     "output_type": "stream",
     "text": [
      "Enter the numbers separated by comma:2,4,6\n",
      "Enter the numbers separated by comma:3,6,9\n",
      "the list n1 is: [2, 4, 6]\n",
      "the list n2 is: [3, 6, 9]\n",
      "both list are same length\n",
      "both list have different sum\n",
      "same numbers in list are: [6]\n"
     ]
    }
   ],
   "source": [
    "#some list operations\n",
    "n1=list(map(int,input(\"Enter the numbers separated by comma:\").split(\",\")))\n",
    "n2=list(map(int,input(\"Enter the numbers separated by comma:\").split(\",\")))\n",
    "print(\"the list n1 is:\",n1)\n",
    "print(\"the list n2 is:\",n2)\n",
    "s=i=0\n",
    "if len(n1)==len(n2):\n",
    "    print(\"both list are same length\")\n",
    "else:\n",
    "    print(\"both list are not same length\")\n",
    "if(sum(n1)==sum(n2)):\n",
    "    print(\"both list have same sum\")\n",
    "else:\n",
    "    print(\"both list have different sum\")\n",
    "\n",
    "k=[i for i in n1 if i in n2]\n",
    "if len(k)!=0:\n",
    "    print(\"same numbers in list are:\",k)\n",
    "else:\n",
    "    print(\"Nothing common in both lists\")"
   ]
  },
  {
   "cell_type": "code",
   "execution_count": 7,
   "metadata": {},
   "outputs": [
    {
     "name": "stdout",
     "output_type": "stream",
     "text": [
      "Enter the numbers separated by comma:1,2,3,4,5,6,7\n",
      "The odd numbers are: [1, 3, 5, 7]\n"
     ]
    }
   ],
   "source": [
    "#separating odd integers from list of integers\n",
    "n=list(map(int,input(\"Enter the numbers separated by comma:\").split(\",\")))\n",
    "m=[x for x in n if x%2!=0]\n",
    "print(\"The odd numbers are:\",m)\n"
   ]
  },
  {
   "cell_type": "code",
   "execution_count": 8,
   "metadata": {},
   "outputs": [
    {
     "name": "stdout",
     "output_type": "stream",
     "text": [
      "Enter the colors separated by comma:red,blue,orange,green\n",
      "Enter the colors separated by comma:blue,green,white\n",
      "The colors in list1 not in list2: ['red', 'orange']\n"
     ]
    }
   ],
   "source": [
    "#colors in list1 but not in list2\n",
    "n1=list(input(\"Enter the colors separated by comma:\").split(\",\"))\n",
    "n2=list(input(\"Enter the colors separated by comma:\").split(\",\"))\n",
    "s=[x for x in n1 if x not in n2]\n",
    "print(\"The colors in list1 not in list2:\",s)\n"
   ]
  },
  {
   "cell_type": "code",
   "execution_count": 4,
   "metadata": {},
   "outputs": [
    {
     "name": "stdout",
     "output_type": "stream",
     "text": [
      "Enter the value to be inserted: 2\n",
      "Enter a key value:a\n",
      "Enter a value:2\n",
      "Enter a key value:b\n",
      "Enter a value:3\n",
      "The first dictionary is: dict_items([('a', '2'), ('b', '3')])\n",
      "sorting a dictionary in ascending order: [('a', '2'), ('b', '3')]\n",
      "sorting a dictionary in descending order: [('b', '3'), ('a', '2')]\n"
     ]
    }
   ],
   "source": [
    "#sort dictionary in ascending orer and descending order\n",
    "n=int(input(\"Enter the value to be inserted: \"))\n",
    "dict1={}\n",
    "for i in range(n):\n",
    "    k=input(\"Enter a key value:\")\n",
    "    v=input(\"Enter a value:\")\n",
    "    dict1.update({k:v})\n",
    "print(\"The first dictionary is:\",dict1.items())\n",
    "a=sorted(dict1.items())\n",
    "d=sorted(dict1.items(),reverse=True)\n",
    "print(\"sorting a dictionary in ascending order:\",a)\n",
    "print(\"sorting a dictionary in descending order:\",d)\n"
   ]
  },
  {
   "cell_type": "code",
   "execution_count": 3,
   "metadata": {},
   "outputs": [
    {
     "name": "stdout",
     "output_type": "stream",
     "text": [
      "Enter the no of value to be inserted in dict1:2\n",
      "Enter a key value:a\n",
      "Enter a value:2\n",
      "Enter a key value:b\n",
      "Enter a value:3\n",
      "The first dictionary is : dict_items([('a', '2'), ('b', '3')])\n",
      "Enter the no of values to be inserted in dict2:2\n",
      "Enter a key value:c\n",
      "Enter a value:4\n",
      "Enter a key value:d\n",
      "Enter a value:5\n",
      "The second dictionary is: dict_items([('c', '4'), ('d', '5')])\n",
      "Merging of dictionary is: dict_items([('a', '2'), ('b', '3'), ('c', '4'), ('d', '5')])\n"
     ]
    }
   ],
   "source": [
    "#merge two dictionaries\n",
    "n=int(input(\"Enter the no of value to be inserted in dict1:\"))\n",
    "dict1={}\n",
    "for i in range(n):\n",
    "    k=input(\"Enter a key value:\")\n",
    "    v=input(\"Enter a value:\")\n",
    "    dict1.update({k:v})\n",
    "print(\"The first dictionary is :\",dict1.items())\n",
    "n=int(input(\"Enter the no of values to be inserted in dict2:\"))\n",
    "dict2={}\n",
    "for i in range(n):\n",
    "    k=input(\"Enter a key value:\")\n",
    "    v=input(\"Enter a value:\")\n",
    "    dict2.update({k:v})\n",
    "print(\"The second dictionary is:\",dict2.items())\n",
    "dict3={}\n",
    "dict3.update(dict1)\n",
    "dict3.update(dict2)\n",
    "print(\"Merging of dictionary is:\",dict3.items())\n"
   ]
  },
  {
   "cell_type": "code",
   "execution_count": null,
   "metadata": {
    "collapsed": true
   },
   "outputs": [],
   "source": []
  }
 ],
 "metadata": {
  "kernelspec": {
   "display_name": "Python 3",
   "language": "python",
   "name": "python3"
  },
  "language_info": {
   "codemirror_mode": {
    "name": "ipython",
    "version": 3
   },
   "file_extension": ".py",
   "mimetype": "text/x-python",
   "name": "python",
   "nbconvert_exporter": "python",
   "pygments_lexer": "ipython3",
   "version": "3.6.3"
  }
 },
 "nbformat": 4,
 "nbformat_minor": 2
}
